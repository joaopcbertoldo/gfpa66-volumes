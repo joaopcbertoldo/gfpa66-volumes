{
 "cells": [
  {
   "cell_type": "markdown",
   "metadata": {},
   "source": [
    "# Glass fiber-reinforced polyamide 66 3D X-ray computed tomography dataset for deep learning segmentation\n",
    "\n",
    "This notebook is a demo of how to open `.raw` files.\n",
    "\n",
    "You should first extract the contents of the `crack.zip` and `pa66.zip` files to this same directory.\n",
    "\n",
    "The `.info` files contain the shape (`x`, `y`, and `z` sizes) of the corresponding files with the same name so that you don't need to type them.\n",
    "\n",
    "The module `read_raw.py` has a function that will be used to load the files' contents into `numpy.ndarray`s.\n",
    "\n",
    "Author: [`joaopcbertoldo`](joaopcbertoldo.github.io)\n",
    "\n",
    "<a rel=\"license\" href=\"http://creativecommons.org/licenses/by-sa/4.0/\"><img alt=\"Creative Commons License\" style=\"border-width:0\" src=\"https://i.creativecommons.org/l/by-sa/4.0/88x31.png\" /></a><br /><span xmlns:dct=\"http://purl.org/dc/terms/\" href=\"http://purl.org/dc/dcmitype/Dataset\" property=\"dct:title\" rel=\"dct:type\">Glass fiber-reinforced polyamide 66 3D X-ray computed tomography dataset for deep learning segmentation</span> by <span xmlns:cc=\"http://creativecommons.org/ns#\" property=\"cc:attributionName\"><a rel=\"author\" href=\"https://orcid.org/0000-0002-9512-772X\">Joao P C Bertoldo</a>, <a rel=\"author\" href=\"https://orcid.org/0000-0002-1349-8042\">Etienne Decencière</a>, <a rel=\"author\" href=\"https://orcid.org/0000-0003-3268-4892\">David Ryckelynck</a>, and <a rel=\"author\" href=\"https://orcid.org/0000-0002-4075-5577\">Henry Proudhon</a></span> is licensed under a <a rel=\"license\" href=\"http://creativecommons.org/licenses/by-sa/4.0/\">Creative Commons Attribution-ShareAlike 4.0 International License</a>."
   ]
  },
  {
   "cell_type": "code",
   "execution_count": 1,
   "metadata": {},
   "outputs": [],
   "source": [
    "import os\n",
    "from pathlib import Path\n",
    "import numpy as np\n",
    "\n",
    "from read_raw import HST_read"
   ]
  },
  {
   "cell_type": "code",
   "execution_count": 2,
   "metadata": {},
   "outputs": [
    {
     "data": {
      "text/plain": [
       "['.ipynb_checkpoints',\n",
       " '__pycache__',\n",
       " 'crack.raw',\n",
       " 'crack.raw.info',\n",
       " 'crack.segmentation.raw',\n",
       " 'crack.segmentation.raw.info',\n",
       " 'crack.zip',\n",
       " 'open_raw.ipynb',\n",
       " 'pa66.ground_truth.raw',\n",
       " 'pa66.ground_truth.raw.info',\n",
       " 'pa66.raw',\n",
       " 'pa66.raw.info',\n",
       " 'pa66.test.error_volume.raw',\n",
       " 'pa66.test.error_volume.raw.info',\n",
       " 'pa66.test.segmentation.raw',\n",
       " 'pa66.test.segmentation.raw.info',\n",
       " 'pa66.zip',\n",
       " 'pack.py',\n",
       " 'read_raw.py',\n",
       " 'readme.md']"
      ]
     },
     "execution_count": 2,
     "metadata": {},
     "output_type": "execute_result"
    }
   ],
   "source": [
    "data_dir = Path(\".\").absolute()\n",
    "sorted(os.listdir(data_dir))"
   ]
  },
  {
   "cell_type": "markdown",
   "metadata": {},
   "source": [
    "You should see the files:\n",
    "\n",
    "- `crack.raw`\n",
    "- `crack.raw.info`\n",
    "- `crack.segmentation.raw`\n",
    "- `crack.segmentation.raw.info`\n",
    "- `pa66.ground_truth.raw`\n",
    "- `pa66.ground_truth.raw.info`\n",
    "- `pa66.raw`\n",
    "- `pa66.raw.info`\n",
    "- `pa66.test.error_volume.raw`\n",
    "- `pa66.test.error_volume.raw.info`\n",
    "- `pa66.test.segmentation.raw`\n",
    "- `pa66.test.segmentation.raw.info`"
   ]
  },
  {
   "cell_type": "code",
   "execution_count": 3,
   "metadata": {},
   "outputs": [],
   "source": [
    "pa66 = dict(\n",
    "    data=\"pa66.raw\",\n",
    "    ground_truth=\"pa66.ground_truth.raw\",\n",
    "    error=\"pa66.test.error_volume.raw\",\n",
    "    prediction=\"pa66.test.segmentation.raw\",\n",
    ")\n",
    "\n",
    "crack = dict(\n",
    "    data=\"crack.raw\",\n",
    "    prediction=\"crack.segmentation.raw\",\n",
    ")\n",
    "\n",
    "# transform the filenames in Path objects (it's handy...)\n",
    "pa66 = {\n",
    "    key: data_dir / fname \n",
    "    for key, fname in pa66.items()\n",
    "}\n",
    "\n",
    "crack = {\n",
    "    key: data_dir / fname \n",
    "    for key, fname in crack.items()\n",
    "}"
   ]
  },
  {
   "cell_type": "markdown",
   "metadata": {},
   "source": [
    "File sizes"
   ]
  },
  {
   "cell_type": "code",
   "execution_count": 4,
   "metadata": {},
   "outputs": [
    {
     "name": "stdout",
     "output_type": "stream",
     "text": [
      "key='data' 2.39 GB\n",
      "key='ground_truth' 2.39 GB\n",
      "key='error' 0.38 GB\n",
      "key='prediction' 0.38 GB\n"
     ]
    }
   ],
   "source": [
    "# pa66\n",
    "for key, file in pa66.items():\n",
    "    print(f\"{key=} {file.stat().st_size / 1024**3:.2f} GB\")"
   ]
  },
  {
   "cell_type": "code",
   "execution_count": 5,
   "metadata": {},
   "outputs": [
    {
     "name": "stdout",
     "output_type": "stream",
     "text": [
      "key='data' 5.43 GB\n",
      "key='prediction' 5.43 GB\n"
     ]
    }
   ],
   "source": [
    "# crack\n",
    "for key, file in crack.items():\n",
    "    print(f\"{key=} {file.stat().st_size / 1024**3:.2f} GB\")"
   ]
  },
  {
   "cell_type": "markdown",
   "metadata": {},
   "source": [
    "shapes"
   ]
  },
  {
   "cell_type": "code",
   "execution_count": 6,
   "metadata": {},
   "outputs": [
    {
     "name": "stdout",
     "output_type": "stream",
     "text": [
      "pa66.raw.info\n",
      "! PyHST_SLAVE VOLUME INFO FILE\n",
      "NUM_X = 1300\n",
      "NUM_Y = 1040\n",
      "NUM_Z = 1900\n",
      " \n",
      "\n",
      "pa66.ground_truth.raw.info\n",
      "! PyHST_SLAVE VOLUME INFO FILE\n",
      "NUM_X = 1300\n",
      "NUM_Y = 1040\n",
      "NUM_Z = 1900\n",
      " \n",
      "\n",
      "pa66.test.error_volume.raw.info\n",
      "! PyHST_SLAVE VOLUME INFO FILE\n",
      "NUM_X = 1300\n",
      "NUM_Y = 1040\n",
      "NUM_Z =  300\n",
      "DATA_TYPE = uint8\n",
      " \n",
      "\n",
      "pa66.test.segmentation.raw.info\n",
      "! PyHST_SLAVE VOLUME INFO FILE\n",
      "NUM_X = 1300\n",
      "NUM_Y = 1040\n",
      "NUM_Z =  300\n",
      "DATA_TYPE = uint8\n",
      " \n",
      "\n"
     ]
    }
   ],
   "source": [
    "for key, file in pa66.items():\n",
    "    \n",
    "    info_file = file.with_suffix(\".raw.info\")\n",
    "    print(f\"{info_file.name}\")\n",
    "    \n",
    "    with info_file.open(\"r\") as f:\n",
    "        print(f.read(), \"\\n\")"
   ]
  },
  {
   "cell_type": "markdown",
   "metadata": {},
   "source": [
    "Notice that 2 of the files have 1900 z-slices (the full dataset), and 2 have 300 z-slice (only the test set)."
   ]
  },
  {
   "cell_type": "code",
   "execution_count": 7,
   "metadata": {},
   "outputs": [
    {
     "name": "stdout",
     "output_type": "stream",
     "text": [
      "crack.raw.info\n",
      ": PyHST_SLAVE VOLUME INFO FILE\n",
      "NUM_X = 1579\n",
      "NUM_Y = 1845\n",
      "NUM_Z = 2002\n",
      " \n",
      "\n",
      "crack.segmentation.raw.info\n",
      "! PyHST_SLAVE VOLUME INFO FILE\n",
      "NUM_X = 1579\n",
      "NUM_Y = 1845\n",
      "NUM_Z = 2002\n",
      " \n",
      "\n"
     ]
    }
   ],
   "source": [
    "for key, file in crack.items():\n",
    "    \n",
    "    info_file = file.with_suffix(\".raw.info\")\n",
    "    print(f\"{info_file.name}\")\n",
    "    \n",
    "    with info_file.open(\"r\") as f:\n",
    "        print(f.read(), \"\\n\")"
   ]
  },
  {
   "cell_type": "markdown",
   "metadata": {},
   "source": [
    "load the files"
   ]
  },
  {
   "cell_type": "code",
   "execution_count": 8,
   "metadata": {},
   "outputs": [],
   "source": [
    "pa66_arrays = {\n",
    "    key: HST_read(\n",
    "        str(file),\n",
    "        autoparse_filename=False,\n",
    "        data_type=np.uint8,\n",
    "        zrange=range(10),  # todo: removeme\n",
    "    )\n",
    "    for key, file in pa66.items()\n",
    "}"
   ]
  },
  {
   "cell_type": "code",
   "execution_count": 9,
   "metadata": {},
   "outputs": [
    {
     "ename": "SystemExit",
     "evalue": "The file does not seem to be a PyHST info file",
     "output_type": "error",
     "traceback": [
      "An exception has occurred, use %tb to see the full traceback.\n",
      "\u001b[0;31mSystemExit\u001b[0m\u001b[0;31m:\u001b[0m The file does not seem to be a PyHST info file\n"
     ]
    },
    {
     "name": "stderr",
     "output_type": "stream",
     "text": [
      "/home/users/jcasagrande/.conda/envs/packenv/lib/python3.8/site-packages/IPython/core/interactiveshell.py:3445: UserWarning: To exit: use 'exit', 'quit', or Ctrl-D.\n",
      "  warn(\"To exit: use 'exit', 'quit', or Ctrl-D.\", stacklevel=1)\n"
     ]
    }
   ],
   "source": [
    "crack_arrays = {\n",
    "    key: HST_read(\n",
    "        str(file),\n",
    "        autoparse_filename=False,\n",
    "        data_type=np.uint8,\n",
    "        zrange=range(10),  # todo: removeme\n",
    "    )\n",
    "    for key, file in crack.items()\n",
    "}"
   ]
  },
  {
   "cell_type": "raw",
   "metadata": {},
   "source": [
    "todo remove these two here below"
   ]
  },
  {
   "cell_type": "code",
   "execution_count": null,
   "metadata": {},
   "outputs": [],
   "source": [
    "arrays[\"prediction\"] = arrays[\"prediction\"][:, :, :3]\n",
    "arrays[\"error\"] = arrays[\"error\"][:, :, :3]"
   ]
  },
  {
   "cell_type": "code",
   "execution_count": null,
   "metadata": {},
   "outputs": [],
   "source": [
    "for key, arr in arrays.items():\n",
    "    print(f\"{key=} \\n{arr.dtype=} \\n{arr.shape=}\\n\")"
   ]
  },
  {
   "cell_type": "code",
   "execution_count": null,
   "metadata": {},
   "outputs": [],
   "source": [
    "# the compression algorithm\n",
    "ft = tables.Filters(\n",
    "    complevel=9, \n",
    "    complib='zlib', \n",
    "    shuffle=True, \n",
    "    bitshuffle=False,\n",
    ")"
   ]
  },
  {
   "cell_type": "code",
   "execution_count": null,
   "metadata": {},
   "outputs": [],
   "source": [
    "ft"
   ]
  },
  {
   "cell_type": "markdown",
   "metadata": {},
   "source": [
    "#### sample"
   ]
  },
  {
   "cell_type": "code",
   "execution_count": null,
   "metadata": {},
   "outputs": [],
   "source": [
    "bibtex_citation = \"TO BE UPDATED\"\n",
    "\n",
    "sample_description=\"\"\\\n",
    "\"Glass fiber-reinforced Poly Amide 66 3D X-ray \"\\\n",
    "\"tomography dataset for deep learning segmentation.\\n\"\\\n",
    "f\"If you use this volume, please cite us: {bibtex_citation}\"\n",
    "\n",
    "sample = SampleData(\n",
    "    filename=\"pa66\",  # for \"PolyAmide66\"\n",
    "    sample_name=\"pa66\", \n",
    "    sample_description=sample_description,\n",
    "    filters=ft,\n",
    "    replate=True,\n",
    ")"
   ]
  },
  {
   "cell_type": "markdown",
   "metadata": {},
   "source": [
    "#### all sets image (train, val, test)"
   ]
  },
  {
   "cell_type": "markdown",
   "metadata": {},
   "source": [
    "##### data"
   ]
  },
  {
   "cell_type": "code",
   "execution_count": null,
   "metadata": {},
   "outputs": [],
   "source": [
    "sample.add_image(\n",
    "    imagename=\"pa66\",\n",
    "    replace=True,\n",
    ")\n",
    "\n",
    "sample.set_description(\n",
    "    sample_description, node=\"/pa66\"\n",
    ")"
   ]
  },
  {
   "cell_type": "code",
   "execution_count": null,
   "metadata": {},
   "outputs": [],
   "source": [
    "sample.add_data_array(\n",
    "    location=\"/pa66\",\n",
    "    name=\"data\",\n",
    "    array=arrays[\"data\"],\n",
    "    filters=ft,\n",
    "    replace=True,\n",
    ")\n",
    "\n",
    "sample.set_description(\n",
    "    \"Data (gray level image stack)\", \n",
    "    node=\"/pa66/data\",\n",
    ")"
   ]
  },
  {
   "cell_type": "markdown",
   "metadata": {},
   "source": [
    "##### ground truth"
   ]
  },
  {
   "cell_type": "code",
   "execution_count": null,
   "metadata": {},
   "outputs": [],
   "source": [
    "sample.add_data_array(\n",
    "    location=\"/pa66\",\n",
    "    name=\"ground_truth\",\n",
    "    array=arrays[\"ground_truth\"],\n",
    "    filters=ft,\n",
    "    replace=True,\n",
    ")\n",
    "\n",
    "sample.set_description(\n",
    "    \"Ground truth segmentation.\"\\\n",
    "    \" Values are 0, 1, and 2, which respectively correspond \"\n",
    "    \"to the phases matrix, fiber, and porosity\", \n",
    "    node=\"/pa66/ground_truth\",\n",
    ")"
   ]
  },
  {
   "cell_type": "markdown",
   "metadata": {},
   "source": [
    "#### test set image"
   ]
  },
  {
   "cell_type": "code",
   "execution_count": null,
   "metadata": {},
   "outputs": [],
   "source": [
    "?sample.set_origin"
   ]
  },
  {
   "cell_type": "code",
   "execution_count": null,
   "metadata": {},
   "outputs": [],
   "source": [
    "sample.add_image(\n",
    "    imagename=\"pa66_test_set\",\n",
    "    replace=True,\n",
    ")"
   ]
  },
  {
   "cell_type": "code",
   "execution_count": null,
   "metadata": {},
   "outputs": [],
   "source": [
    "sample.set_origin(\n",
    "    \"/pa66_test_set\",\n",
    "    (0, 0, 7),  # todo changeme to 300 later\n",
    ")"
   ]
  },
  {
   "cell_type": "code",
   "execution_count": null,
   "metadata": {},
   "outputs": [],
   "source": [
    "sample.set_description(\n",
    "    \"Segmentation of the test set (last 300 layers) generated by a 2d u-net model.\", \n",
    "    node=\"/pa66_test_set\"\n",
    ")"
   ]
  },
  {
   "cell_type": "markdown",
   "metadata": {},
   "source": [
    "##### errors"
   ]
  },
  {
   "cell_type": "code",
   "execution_count": null,
   "metadata": {},
   "outputs": [],
   "source": [
    "sample.add_data_array(\n",
    "    location=\"/pa66_test_set\",\n",
    "    name=\"prediction\",\n",
    "    array=arrays[\"prediction\"],\n",
    "    filters=ft,\n",
    "    replace=True, \n",
    ")\n",
    "\n",
    "sample.set_description(\n",
    "    \"Segmentation generated by a 2d u-net model.\", \n",
    "    node=\"/pa66_test_set/prediction\",\n",
    ")"
   ]
  },
  {
   "cell_type": "code",
   "execution_count": null,
   "metadata": {},
   "outputs": [],
   "source": [
    "sample.add_data_array(\n",
    "    location=\"/pa66_test_set\",\n",
    "    name=\"error\",\n",
    "    array=arrays[\"error\"],\n",
    "    filters=ft,\n",
    "    replace=True, \n",
    ")\n",
    "\n",
    "sample.set_description(\n",
    "    \"Disagreement between the ground truth and \"\n",
    "    \"the model's prediction on the test set: \"\n",
    "    \"1 means 'incorrect', 0 means 'correct'.\", \n",
    "    node=\"/pa66_test_set/error\",\n",
    ")"
   ]
  },
  {
   "cell_type": "markdown",
   "metadata": {},
   "source": [
    "# Things TODO\n",
    "\n",
    "- do it full size\n",
    "\n",
    "- fix the origin thing for the test volumes\n",
    "\n",
    "- set the voxel size\n",
    "\n",
    "- add these metadata\n",
    "\n",
    "```\n",
    "labels:\n",
    "  - 0\n",
    "  - 1\n",
    "  - 2\n",
    "labels_names:\n",
    "  0: \"matrix\"\n",
    "  1: \"fiber\"\n",
    "  2: \"porosity\"\n",
    "set_partitions:\n",
    "  train:\n",
    "    x_range: [0, 1300]\n",
    "    y_range: [0, 1040]\n",
    "    z_range: [0, 1300]\n",
    "    alias: \"train\"\n",
    "  val:\n",
    "    x_range: [0, 1300]\n",
    "    y_range: [0, 1040]\n",
    "    z_range: [1078, 1206]\n",
    "    alias: \"val\"\n",
    "  test:\n",
    "    x_range: [0, 1300]\n",
    "    y_range: [0, 1040]\n",
    "    z_range: [1300, 1600]\n",
    "    alias: \"test\"\n",
    "```"
   ]
  },
  {
   "cell_type": "code",
   "execution_count": null,
   "metadata": {},
   "outputs": [],
   "source": []
  }
 ],
 "metadata": {
  "kernelspec": {
   "display_name": "packenv",
   "language": "python",
   "name": "packenv"
  },
  "language_info": {
   "codemirror_mode": {
    "name": "ipython",
    "version": 3
   },
   "file_extension": ".py",
   "mimetype": "text/x-python",
   "name": "python",
   "nbconvert_exporter": "python",
   "pygments_lexer": "ipython3",
   "version": "3.8.8"
  }
 },
 "nbformat": 4,
 "nbformat_minor": 4
}
